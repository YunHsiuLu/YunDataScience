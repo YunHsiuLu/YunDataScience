{
 "cells": [
  {
   "cell_type": "markdown",
   "id": "welcome-rapid",
   "metadata": {},
   "source": [
    "題目 : \n",
    "\n",
    "1. 在速度較慢的時候，可以先從哪邊開始檢查？<br>\n",
    "    (1) 可以先檢查讀取的檔案為何種型態，如果能將在寫出數據時將檔案存成pkl檔會在之後的讀取減少不少時間。<br>\n",
    "    (2) 在coding的時候記得多多使用內建函式庫，逼不得已才去使用自定義函式<br>\n",
    "    (3) 對數據進行任何動作時，使用向量化的判斷會減少執行時間，像是使用.isin()<br>\n",
    "2. 資料過大時應採取什麼方式讓記憶體占用量下降？<br>\n",
    "    可以盡可能地將數據減少型態以省下更多的記憶體空間"
   ]
  }
 ],
 "metadata": {
  "kernelspec": {
   "display_name": "Python 3",
   "language": "python",
   "name": "python3"
  },
  "language_info": {
   "codemirror_mode": {
    "name": "ipython",
    "version": 3
   },
   "file_extension": ".py",
   "mimetype": "text/x-python",
   "name": "python",
   "nbconvert_exporter": "python",
   "pygments_lexer": "ipython3",
   "version": "3.9.1"
  }
 },
 "nbformat": 4,
 "nbformat_minor": 5
}
