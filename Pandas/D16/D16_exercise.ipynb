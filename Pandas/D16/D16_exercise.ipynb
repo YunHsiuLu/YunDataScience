{
 "cells": [
  {
   "cell_type": "markdown",
   "id": "basic-shelf",
   "metadata": {},
   "source": [
    "作業目標:\n",
    "\n",
    "熟悉時間序列資料運算<br>\n",
    "敘述統計量應用在時間序列資料上<br>\n",
    "作業重點:\n",
    "\n",
    "須注意時間的間隔問題，例如:一周、一年...<br>\n",
    "敘述統計量一樣可以應用在時間序列資料上<br>\n",
    "題目 : 運下列時間序列資料做運算\n",
    "\n",
    "```\n",
    "index = pd.date_range(\"1/1/2019\", periods=20, freq='D')\n",
    "series = pd.Series(range(20), index=index)\n",
    "```\n",
    "\n",
    "1. 將所有轉為周資料<br>\n",
    "2. 將周資料的值取平均"
   ]
  },
  {
   "cell_type": "code",
   "execution_count": 15,
   "id": "premium-formation",
   "metadata": {},
   "outputs": [
    {
     "data": {
      "text/plain": [
       "2019-01-01     0\n",
       "2019-01-02     1\n",
       "2019-01-03     2\n",
       "2019-01-04     3\n",
       "2019-01-05     4\n",
       "2019-01-06     5\n",
       "2019-01-07     6\n",
       "2019-01-08     7\n",
       "2019-01-09     8\n",
       "2019-01-10     9\n",
       "2019-01-11    10\n",
       "2019-01-12    11\n",
       "2019-01-13    12\n",
       "2019-01-14    13\n",
       "2019-01-15    14\n",
       "2019-01-16    15\n",
       "2019-01-17    16\n",
       "2019-01-18    17\n",
       "2019-01-19    18\n",
       "2019-01-20    19\n",
       "Freq: D, dtype: int64"
      ]
     },
     "execution_count": 15,
     "metadata": {},
     "output_type": "execute_result"
    }
   ],
   "source": [
    "import numpy as np\n",
    "import pandas as pd\n",
    "index = pd.date_range('1/1/2019', periods=20, freq='D')\n",
    "series = pd.Series(range(20), index=index)\n",
    "series"
   ]
  },
  {
   "cell_type": "code",
   "execution_count": 18,
   "id": "caroline-reasoning",
   "metadata": {},
   "outputs": [
    {
     "data": {
      "text/plain": [
       "2019-01-06     5\n",
       "2019-01-13    12\n",
       "2019-01-20    19\n",
       "Freq: W-SUN, dtype: int64"
      ]
     },
     "execution_count": 18,
     "metadata": {},
     "output_type": "execute_result"
    }
   ],
   "source": [
    "#1. 將所有轉為周資料\n",
    "series.resample('W').asfreq()"
   ]
  },
  {
   "cell_type": "code",
   "execution_count": 19,
   "id": "radio-simon",
   "metadata": {},
   "outputs": [
    {
     "data": {
      "text/plain": [
       "12.0"
      ]
     },
     "execution_count": 19,
     "metadata": {},
     "output_type": "execute_result"
    }
   ],
   "source": [
    "#2. 將周資料的值取平均\n",
    "series.resample('W').asfreq().mean()"
   ]
  },
  {
   "cell_type": "code",
   "execution_count": null,
   "id": "average-contribution",
   "metadata": {},
   "outputs": [],
   "source": []
  }
 ],
 "metadata": {
  "kernelspec": {
   "display_name": "Python 3",
   "language": "python",
   "name": "python3"
  },
  "language_info": {
   "codemirror_mode": {
    "name": "ipython",
    "version": 3
   },
   "file_extension": ".py",
   "mimetype": "text/x-python",
   "name": "python",
   "nbconvert_exporter": "python",
   "pygments_lexer": "ipython3",
   "version": "3.9.1"
  }
 },
 "nbformat": 4,
 "nbformat_minor": 5
}
