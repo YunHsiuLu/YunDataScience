{
 "cells": [
  {
   "cell_type": "markdown",
   "id": "uniform-reset",
   "metadata": {},
   "source": [
    "作業目標<br>\n",
    "計算有缺失值的資料，統計量實作<br>\n",
    "作業重點<br>\n",
    "當遇到缺失值有函式可以處理，不須額外寫程式刪除<br>\n",
    "計算統計量時不能出現缺失值<br>\n",
    "\n",
    "題目:<br>\n",
    "english_score = np.array([55,89,76,65,48,70])<br>\n",
    "math_score = np.array([60,85,60,68,np.nan,60])<br>\n",
    "chinese_score = np.array([65,90,82,72,66,77])<br>\n",
    "上3列共六位同學的英文、數學、國文成績，第一個元素代表第一位同學，舉例第一位同學英文55分、數學60分、國文65分，今天第五位同學因某原因沒來考試，導致數學成績缺值，運用上列數據回答下列問題。<br>\n",
    "\n",
    "請計算各科成績平均、最大值、最小值、標準差，其中數學缺一筆資料可忽略?<br>\n",
    "第五位同學補考數學後成績為55，請計算補考後數學成績平均、最大值、最小值、標準差?<br>\n",
    "用補考後資料找出與國文成績相關係數最高的學科?<br>"
   ]
  },
  {
   "cell_type": "code",
   "execution_count": 1,
   "id": "agricultural-nightmare",
   "metadata": {},
   "outputs": [],
   "source": [
    "import numpy as np"
   ]
  },
  {
   "cell_type": "code",
   "execution_count": 2,
   "id": "wanted-consultation",
   "metadata": {},
   "outputs": [],
   "source": [
    "english_score = np.array([55,89,76,65,48,70])\n",
    "math_score = np.array([60,85,60,68,np.nan,60])\n",
    "chinese_score = np.array([65,90,82,72,66,77])"
   ]
  },
  {
   "cell_type": "code",
   "execution_count": 7,
   "id": "individual-execution",
   "metadata": {},
   "outputs": [
    {
     "name": "stdout",
     "output_type": "stream",
     "text": [
      "English:\n",
      "  Mean score: 67.17\n",
      "  Highest score: 89.00\n",
      "  Lowest score: 48.00\n",
      "  Standard deviation: 13.43\n",
      "Math:\n",
      "  Mean score: 66.60\n",
      "  Highest score: 85.00\n",
      "  Lowest score: 60.00\n",
      "  Standard deviation: 9.71\n",
      "Chinese:\n",
      "  Mean score: 75.33\n",
      "  Highest score: 90.00\n",
      "  Lowest score: 65.00\n",
      "  Standard deviation: 8.83\n"
     ]
    }
   ],
   "source": [
    "#1. 請計算各科成績平均、最大值、最小值、標準差，其中數學缺一筆資料可忽略?\n",
    "eng_info = [np.mean(english_score), np.max(english_score), np.min(english_score), np.std(english_score)]\n",
    "math_info = [np.nanmean(math_score), np.nanmax(math_score), np.nanmin(math_score), np.nanstd(math_score)]\n",
    "chi_info = [np.mean(chinese_score), np.max(chinese_score), np.min(chinese_score), np.std(chinese_score)]\n",
    "print(\"English:\")\n",
    "print(\"  Mean score: %.2f\" % eng_info[0])\n",
    "print(\"  Highest score: %.2f\" % eng_info[1])\n",
    "print(\"  Lowest score: %.2f\" % eng_info[2])\n",
    "print(\"  Standard deviation: %.2f\" % eng_info[3])\n",
    "print(\"Math:\")\n",
    "print(\"  Mean score: %.2f\" % math_info[0])\n",
    "print(\"  Highest score: %.2f\" % math_info[1])\n",
    "print(\"  Lowest score: %.2f\" % math_info[2])\n",
    "print(\"  Standard deviation: %.2f\" % math_info[3])\n",
    "print(\"Chinese:\")\n",
    "print(\"  Mean score: %.2f\" % chi_info[0])\n",
    "print(\"  Highest score: %.2f\" % chi_info[1])\n",
    "print(\"  Lowest score: %.2f\" % chi_info[2])\n",
    "print(\"  Standard deviation: %.2f\" % chi_info[3])"
   ]
  },
  {
   "cell_type": "code",
   "execution_count": 10,
   "id": "young-leeds",
   "metadata": {},
   "outputs": [
    {
     "name": "stdout",
     "output_type": "stream",
     "text": [
      "Math after the fifth student makes up:\n",
      "  Mean score: 64.67\n",
      "  Highest score: 85.00\n",
      "  Lowest score: 55.00\n",
      "  Standard deviation: 9.86\n"
     ]
    }
   ],
   "source": [
    "#2. 第五位同學補考數學後成績為55，請計算補考後數學成績平均、最大值、最小值、標準差?\n",
    "math_score[4] = 55\n",
    "math_info_new = [np.mean(math_score), np.max(math_score), np.min(math_score), np.std(math_score)]\n",
    "print(\"Math after the fifth student makes up:\")\n",
    "print(\"  Mean score: %.2f\" % math_info_new[0])\n",
    "print(\"  Highest score: %.2f\" % math_info_new[1])\n",
    "print(\"  Lowest score: %.2f\" % math_info_new[2])\n",
    "print(\"  Standard deviation: %.2f\" % math_info_new[3])"
   ]
  },
  {
   "cell_type": "code",
   "execution_count": 14,
   "id": "valuable-spencer",
   "metadata": {},
   "outputs": [
    {
     "name": "stdout",
     "output_type": "stream",
     "text": [
      "Math\n"
     ]
    }
   ],
   "source": [
    "#3. 用補考後資料找出與國文成績相關係數最高的學科?\n",
    "c1 = np.corrcoef(chi_info, eng_info)[0][1]\n",
    "c2 = np.corrcoef(chi_info, math_info_new)[0][1]\n",
    "s = 'English' if c1 > c2 else 'Math'\n",
    "print('%s' % s)"
   ]
  },
  {
   "cell_type": "code",
   "execution_count": null,
   "id": "inner-dryer",
   "metadata": {},
   "outputs": [],
   "source": []
  }
 ],
 "metadata": {
  "kernelspec": {
   "display_name": "Python 3",
   "language": "python",
   "name": "python3"
  },
  "language_info": {
   "codemirror_mode": {
    "name": "ipython",
    "version": 3
   },
   "file_extension": ".py",
   "mimetype": "text/x-python",
   "name": "python",
   "nbconvert_exporter": "python",
   "pygments_lexer": "ipython3",
   "version": "3.9.1"
  }
 },
 "nbformat": 4,
 "nbformat_minor": 5
}
