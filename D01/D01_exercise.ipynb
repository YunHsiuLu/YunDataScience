{
  "nbformat": 4,
  "nbformat_minor": 0,
  "metadata": {
    "colab": {
      "name": "D01_exercise.ipynb",
      "provenance": []
    },
    "kernelspec": {
      "name": "python3",
      "display_name": "Python 3"
    }
  },
  "cells": [
    {
      "cell_type": "markdown",
      "metadata": {
        "id": "uQHQPbQZOp_O"
      },
      "source": [
        "作業目標:<br>\n",
        "在array中，可以靈活應用索引幫助資料擷取<br>\n",
        "作業重點:<br>\n",
        "陣列的索引、切片、以及屬性，皆需要注意使用方式<br>\n",
        "陣列之中索引式由0開始請同學注意<br>\n",
        "題目:<br>\n",
        "1.生成一個等差數列，首數為0，尾數為20，公差為1的數列。<br>\n",
        "2.呈上題，將以上數列取出偶數。<br>\n",
        "3.呈1題，將數列取出3的倍數。"
      ]
    },
    {
      "cell_type": "code",
      "metadata": {
        "id": "U6MU7I0iOpNr"
      },
      "source": [
        "import numpy as np"
      ],
      "execution_count": 7,
      "outputs": []
    },
    {
      "cell_type": "code",
      "metadata": {
        "colab": {
          "base_uri": "https://localhost:8080/"
        },
        "id": "zhW8tpLkPCcv",
        "outputId": "899afe23-7aec-429f-89cc-b29524276122"
      },
      "source": [
        "arithmetic_sequence = np.linspace(0, 20, 21)\n",
        "print(sequence)"
      ],
      "execution_count": 8,
      "outputs": [
        {
          "output_type": "stream",
          "text": [
            "[ 0.  1.  2.  3.  4.  5.  6.  7.  8.  9. 10. 11. 12. 13. 14. 15. 16. 17.\n",
            " 18. 19. 20.]\n"
          ],
          "name": "stdout"
        }
      ]
    },
    {
      "cell_type": "code",
      "metadata": {
        "colab": {
          "base_uri": "https://localhost:8080/"
        },
        "id": "WkH9utkTPPwq",
        "outputId": "03cdb02d-b9be-4111-c75f-81c2bf7bd979"
      },
      "source": [
        "even_seq = []\n",
        "for i in arithmetic_sequence:\n",
        "  if i % 2 == 0:\n",
        "    even_seq.append(i)\n",
        "print(even_seq)"
      ],
      "execution_count": 10,
      "outputs": [
        {
          "output_type": "stream",
          "text": [
            "[0.0, 2.0, 4.0, 6.0, 8.0, 10.0, 12.0, 14.0, 16.0, 18.0, 20.0]\n"
          ],
          "name": "stdout"
        }
      ]
    },
    {
      "cell_type": "code",
      "metadata": {
        "colab": {
          "base_uri": "https://localhost:8080/"
        },
        "id": "WAJyoXNRPq1c",
        "outputId": "383083e6-7828-48af-e3ca-f5409022e3fc"
      },
      "source": [
        "mul_three_seq = []\n",
        "for i in arithmetic_sequence:\n",
        "  if i % 3 == 0:\n",
        "    mul_three_seq.append(i)\n",
        "print(mul_three_seq)"
      ],
      "execution_count": 11,
      "outputs": [
        {
          "output_type": "stream",
          "text": [
            "[0.0, 3.0, 6.0, 9.0, 12.0, 15.0, 18.0]\n"
          ],
          "name": "stdout"
        }
      ]
    },
    {
      "cell_type": "code",
      "metadata": {
        "id": "kJfcN6BTP9HC"
      },
      "source": [
        ""
      ],
      "execution_count": null,
      "outputs": []
    }
  ]
}