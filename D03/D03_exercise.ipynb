{
 "cells": [
  {
   "cell_type": "code",
   "execution_count": 2,
   "id": "duplicate-wallace",
   "metadata": {},
   "outputs": [],
   "source": [
    "import numpy as np"
   ]
  },
  {
   "cell_type": "markdown",
   "id": "narrative-persian",
   "metadata": {},
   "source": [
    "$G_{dB} = 20log_{10}(\\frac{V_1}{V_0})$, $V_0 = 20\\mu Pa$"
   ]
  },
  {
   "cell_type": "code",
   "execution_count": 3,
   "id": "significant-certification",
   "metadata": {},
   "outputs": [
    {
     "name": "stdout",
     "output_type": "stream",
     "text": [
      "60.0 dB\n"
     ]
    }
   ],
   "source": [
    "#1.正常的談話的聲壓為20000微巴斯卡，請問多少分貝?\n",
    "#請寫下程式\n",
    "V1 = 20000\n",
    "V0 = 20\n",
    "G_dB = 20*np.log10(V1/V0)\n",
    "print(\"%.1f dB\" % G_dB)"
   ]
  },
  {
   "cell_type": "code",
   "execution_count": 4,
   "id": "particular-notebook",
   "metadata": {},
   "outputs": [
    {
     "name": "stdout",
     "output_type": "stream",
     "text": [
      "the answer should be 0.100\n"
     ]
    }
   ],
   "source": [
    "#2.30分貝的聲壓會是50分貝的幾倍?\n",
    "#公式移項過後可以得到 V1 = ?\n",
    "#請寫下程式\n",
    "db1 = 30\n",
    "db2 = 50\n",
    "V_1 = np.power(10, db1/20) * V0\n",
    "V_2 = np.power(10, db2/20) * V0\n",
    "ratio = V_1 / V_2\n",
    "print(\"the answer should be %.3f\" % ratio)"
   ]
  },
  {
   "cell_type": "code",
   "execution_count": null,
   "id": "biological-victor",
   "metadata": {},
   "outputs": [],
   "source": []
  }
 ],
 "metadata": {
  "kernelspec": {
   "display_name": "Python 3",
   "language": "python",
   "name": "python3"
  },
  "language_info": {
   "codemirror_mode": {
    "name": "ipython",
    "version": 3
   },
   "file_extension": ".py",
   "mimetype": "text/x-python",
   "name": "python",
   "nbconvert_exporter": "python",
   "pygments_lexer": "ipython3",
   "version": "3.9.1"
  }
 },
 "nbformat": 4,
 "nbformat_minor": 5
}
