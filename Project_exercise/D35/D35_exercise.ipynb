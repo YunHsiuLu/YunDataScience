{
 "cells": [
  {
   "cell_type": "code",
   "execution_count": 3,
   "id": "signal-oliver",
   "metadata": {},
   "outputs": [],
   "source": [
    "import pandas as pd\n",
    "import numpy as np\n",
    "import matplotlib.pyplot as plt\n",
    "import seaborn as sns\n",
    "\n",
    "from IPython.display import display\n",
    "%matplotlib inline"
   ]
  },
  {
   "cell_type": "code",
   "execution_count": 4,
   "id": "negative-fraud",
   "metadata": {},
   "outputs": [],
   "source": [
    "from IPython.display import display_html\n",
    "def display_side_by_side(*args):\n",
    "    html_str=''\n",
    "    for df in args:\n",
    "        html_str+=df.to_html()\n",
    "    display_html(html_str.replace('table','table style=\"display:inline\"'),raw=True)"
   ]
  },
  {
   "cell_type": "code",
   "execution_count": 25,
   "id": "unnecessary-welding",
   "metadata": {},
   "outputs": [],
   "source": [
    "test_df = pd.read_csv(\"Titanic_test.csv\")\n",
    "train_df = pd.read_csv(\"Titanic_train.csv\")"
   ]
  },
  {
   "cell_type": "markdown",
   "id": "communist-confidentiality",
   "metadata": {},
   "source": [
    "# Q1: 判斷 測試資料集和訓練資料集欄位變數是否有差異性?"
   ]
  },
  {
   "cell_type": "code",
   "execution_count": 53,
   "id": "swedish-bosnia",
   "metadata": {},
   "outputs": [
    {
     "name": "stdout",
     "output_type": "stream",
     "text": [
      "test data frame doesn't have \"Survived\" column\n"
     ]
    }
   ],
   "source": [
    "for c in train_df:\n",
    "    if not c in test_df.columns:\n",
    "        print(f\"test data frame doesn\\'t have \\\"{c}\\\" column\")"
   ]
  },
  {
   "cell_type": "markdown",
   "id": "metric-studio",
   "metadata": {},
   "source": [
    "# Q2: 測試資料集是否有遺失值?"
   ]
  },
  {
   "cell_type": "code",
   "execution_count": 52,
   "id": "massive-stream",
   "metadata": {},
   "outputs": [
    {
     "name": "stdout",
     "output_type": "stream",
     "text": [
      "has missing value:\n",
      "Age\n",
      "Fare\n",
      "Cabin\n"
     ]
    }
   ],
   "source": [
    "print(\"has missing value:\")\n",
    "for b in test_df:\n",
    "    if test_df[b].isnull().any():\n",
    "        print(b)"
   ]
  },
  {
   "cell_type": "markdown",
   "id": "charitable-shore",
   "metadata": {},
   "source": [
    "# Q3: 從合併資料選取一個變數，嘗試去做各種不同遺失值的處理，並透過圖形來做輔助判斷，補值前與後的差異，你覺得以這個變數而言，試著說明每一個方法的差異。"
   ]
  },
  {
   "cell_type": "code",
   "execution_count": 59,
   "id": "german-conditioning",
   "metadata": {},
   "outputs": [
    {
     "name": "stdout",
     "output_type": "stream",
     "text": [
      "<class 'pandas.core.frame.DataFrame'>\n",
      "Int64Index: 1309 entries, 0 to 417\n",
      "Data columns (total 12 columns):\n",
      " #   Column       Non-Null Count  Dtype  \n",
      "---  ------       --------------  -----  \n",
      " 0   PassengerId  1309 non-null   int64  \n",
      " 1   Survived     891 non-null    float64\n",
      " 2   Pclass       1309 non-null   int64  \n",
      " 3   Name         1309 non-null   object \n",
      " 4   Sex          1309 non-null   object \n",
      " 5   Age          1046 non-null   float64\n",
      " 6   SibSp        1309 non-null   int64  \n",
      " 7   Parch        1309 non-null   int64  \n",
      " 8   Ticket       1309 non-null   object \n",
      " 9   Fare         1308 non-null   float64\n",
      " 10  Cabin        295 non-null    object \n",
      " 11  Embarked     1307 non-null   object \n",
      "dtypes: float64(3), int64(4), object(5)\n",
      "memory usage: 132.9+ KB\n",
      "None\n",
      "Age 遺失個數= 263\n"
     ]
    }
   ],
   "source": [
    "data = train_df.append(test_df)\n",
    "print(data.info())\n",
    "print('Age 遺失個數=',data['Age'].isnull().sum())"
   ]
  },
  {
   "cell_type": "code",
   "execution_count": 61,
   "id": "competitive-encyclopedia",
   "metadata": {},
   "outputs": [
    {
     "name": "stdout",
     "output_type": "stream",
     "text": [
      "24.00    47\n",
      "22.00    43\n",
      "21.00    41\n",
      "30.00    40\n",
      "18.00    39\n",
      "         ..\n",
      "20.50     1\n",
      "11.50     1\n",
      "22.50     1\n",
      "0.33      1\n",
      "60.50     1\n",
      "Name: Age, Length: 98, dtype: int64\n"
     ]
    }
   ],
   "source": [
    "print(data[\"Age\"].value_counts())"
   ]
  },
  {
   "cell_type": "code",
   "execution_count": 63,
   "id": "engaging-prayer",
   "metadata": {},
   "outputs": [
    {
     "data": {
      "text/plain": [
       "array(['2', '3', 'NoAge', '5', '1', '4', '8', '6', '7', '0', '9'],\n",
       "      dtype=object)"
      ]
     },
     "execution_count": 63,
     "metadata": {},
     "output_type": "execute_result"
    }
   ],
   "source": [
    "data[\"Age\"].head(10)\n",
    "data[\"Age\"] = data[\"Age\"].apply(lambda x: str(x)[0] if not pd.isnull(x) else \"NoAge\")\n",
    "data[\"Age\"].unique()"
   ]
  },
  {
   "cell_type": "code",
   "execution_count": 64,
   "id": "earlier-world",
   "metadata": {},
   "outputs": [
    {
     "name": "stderr",
     "output_type": "stream",
     "text": [
      "/usr/local/lib/python3.9/site-packages/seaborn/_decorators.py:36: FutureWarning: Pass the following variable as a keyword arg: x. From version 0.12, the only valid positional argument will be `data`, and passing other arguments without an explicit keyword will result in an error or misinterpretation.\n",
      "  warnings.warn(\n"
     ]
    },
    {
     "data": {
      "text/plain": [
       "<AxesSubplot:xlabel='Age', ylabel='count'>"
      ]
     },
     "execution_count": 64,
     "metadata": {},
     "output_type": "execute_result"
    },
    {
     "data": {
      "image/png": "[encoded data removed]",
      "text/plain": [
       "<Figure size 432x288 with 1 Axes>"
      ]
     },
     "metadata": {
      "needs_background": "light"
     },
     "output_type": "display_data"
    }
   ],
   "source": [
    "sns.countplot(data[\"Age\"], hue = data[\"Survived\"])"
   ]
  },
  {
   "cell_type": "code",
   "execution_count": 67,
   "id": "collectible-plasma",
   "metadata": {},
   "outputs": [
    {
     "name": "stdout",
     "output_type": "stream",
     "text": [
      "      Age  Survived\n",
      "0       0  1.000000\n",
      "8       8  0.600000\n",
      "5       5  0.461538\n",
      "3       3  0.450867\n",
      "1       1  0.422018\n",
      "4       4  0.414141\n",
      "6       6  0.363636\n",
      "2       2  0.347826\n",
      "10  NoAge  0.293785\n",
      "9       9  0.250000\n",
      "7       7  0.111111\n",
      "missing value is near to 9 Age\n"
     ]
    }
   ],
   "source": [
    "print(data[['Age', 'Survived']].groupby(['Age'], as_index=False).mean().sort_values(by='Survived', ascending=False))\n",
    "print(\"missing value is near to 9 Age\")"
   ]
  },
  {
   "cell_type": "code",
   "execution_count": null,
   "id": "played-chick",
   "metadata": {},
   "outputs": [],
   "source": []
  }
 ],
 "metadata": {
  "kernelspec": {
   "display_name": "Python 3",
   "language": "python",
   "name": "python3"
  },
  "language_info": {
   "codemirror_mode": {
    "name": "ipython",
    "version": 3
   },
   "file_extension": ".py",
   "mimetype": "text/x-python",
   "name": "python",
   "nbconvert_exporter": "python",
   "pygments_lexer": "ipython3",
   "version": "3.9.2"
  }
 },
 "nbformat": 4,
 "nbformat_minor": 5
}
