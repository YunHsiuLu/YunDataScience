{
 "cells": [
  {
   "cell_type": "code",
   "execution_count": 3,
   "id": "biblical-geology",
   "metadata": {},
   "outputs": [],
   "source": [
    "import pandas as pd\n",
    "import numpy as np\n",
    "import matplotlib.pyplot as plt\n",
    "import seaborn as sns\n",
    "\n",
    "from IPython.display import display\n",
    "%matplotlib inline"
   ]
  },
  {
   "cell_type": "code",
   "execution_count": 4,
   "id": "creative-bennett",
   "metadata": {},
   "outputs": [],
   "source": [
    "from IPython.display import display_html\n",
    "def display_side_by_side(*args):\n",
    "    html_str=''\n",
    "    for df in args:\n",
    "        html_str+=df.to_html()\n",
    "    display_html(html_str.replace('table','table style=\"display:inline\"'),raw=True)"
   ]
  },
  {
   "cell_type": "code",
   "execution_count": 25,
   "id": "dried-customer",
   "metadata": {},
   "outputs": [],
   "source": [
    "test_df = pd.read_csv(\"Titanic_test.csv\")\n",
    "train_df = pd.read_csv(\"Titanic_train.csv\")"
   ]
  },
  {
   "cell_type": "code",
   "execution_count": 26,
   "id": "precise-fraction",
   "metadata": {},
   "outputs": [
    {
     "name": "stdout",
     "output_type": "stream",
     "text": [
      "test data frame doesn't have \"Survived\" column\n"
     ]
    }
   ],
   "source": [
    "# Q1: 判斷 測試資料集和訓練資料集欄位變數是否有差異性?\n",
    "for c in train_df:\n",
    "    if not c in test_df.columns:\n",
    "        print(f\"test data frame doesn\\'t have \\\"{c}\\\" column\")"
   ]
  },
  {
   "cell_type": "code",
   "execution_count": 52,
   "id": "renewable-library",
   "metadata": {},
   "outputs": [
    {
     "name": "stdout",
     "output_type": "stream",
     "text": [
      "has missing value:\n",
      "Age\n",
      "Fare\n",
      "Cabin\n"
     ]
    }
   ],
   "source": [
    "# Q2: 測試資料集是否有遺失值?\n",
    "print(\"has missing value:\")\n",
    "for b in test_df:\n",
    "    if test_df[b].isnull().any():\n",
    "        print(b)"
   ]
  },
  {
   "cell_type": "code",
   "execution_count": null,
   "id": "political-arbor",
   "metadata": {},
   "outputs": [],
   "source": []
  }
 ],
 "metadata": {
  "kernelspec": {
   "display_name": "Python 3",
   "language": "python",
   "name": "python3"
  },
  "language_info": {
   "codemirror_mode": {
    "name": "ipython",
    "version": 3
   },
   "file_extension": ".py",
   "mimetype": "text/x-python",
   "name": "python",
   "nbconvert_exporter": "python",
   "pygments_lexer": "ipython3",
   "version": "3.9.2"
  }
 },
 "nbformat": 4,
 "nbformat_minor": 5
}
