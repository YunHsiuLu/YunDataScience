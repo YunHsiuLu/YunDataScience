{
 "cells": [
  {
   "cell_type": "code",
   "execution_count": 1,
   "id": "fuzzy-prerequisite",
   "metadata": {},
   "outputs": [],
   "source": [
    "import matplotlib.pyplot as plt\n",
    "import numpy as np\n",
    "import pandas as pd\n",
    "from scipy import stats\n",
    "import math\n",
    "import statistics"
   ]
  },
  {
   "cell_type": "code",
   "execution_count": 3,
   "id": "infrared-textbook",
   "metadata": {},
   "outputs": [],
   "source": [
    "def level(n: int):\n",
    "    temp = 1\n",
    "    for i in range(n):\n",
    "        temp = temp * (i+1)\n",
    "    return temp"
   ]
  },
  {
   "cell_type": "code",
   "execution_count": 4,
   "id": "democratic-checklist",
   "metadata": {},
   "outputs": [],
   "source": [
    "def choose(N, n):\n",
    "    return level(N) / (level(n)*level(N-n))"
   ]
  },
  {
   "cell_type": "code",
   "execution_count": 16,
   "id": "alternate-chance",
   "metadata": {},
   "outputs": [
    {
     "name": "stdout",
     "output_type": "stream",
     "text": [
      "For Q1 and Q2\n",
      "Probability is: 0.005149%\n",
      "It is HG distribution!\n"
     ]
    }
   ],
   "source": [
    "# 49取6，要全部一樣（中頭獎）\n",
    "Event_All = choose(49, 6)\n",
    "Event_Top = level(6) # 只有一種可能\n",
    "probability = Event_Top / Event_All * 100\n",
    "print(\"For Q1 and Q2\")\n",
    "print(\"Probability is: %f\" % (probability) + \"%\")\n",
    "print(\"It is HG distribution!\")"
   ]
  },
  {
   "cell_type": "code",
   "execution_count": 17,
   "id": "attended-ethernet",
   "metadata": {},
   "outputs": [
    {
     "name": "stdout",
     "output_type": "stream",
     "text": [
      "For Q3\n",
      "I think the probability is the same because whoever choose the number is random\n"
     ]
    }
   ],
   "source": [
    "print(\"For Q3\")\n",
    "print(\"I think the probability is the same because whoever choose the number is random\")"
   ]
  },
  {
   "cell_type": "code",
   "execution_count": null,
   "id": "banner-cream",
   "metadata": {},
   "outputs": [],
   "source": []
  }
 ],
 "metadata": {
  "kernelspec": {
   "display_name": "Python 3",
   "language": "python",
   "name": "python3"
  },
  "language_info": {
   "codemirror_mode": {
    "name": "ipython",
    "version": 3
   },
   "file_extension": ".py",
   "mimetype": "text/x-python",
   "name": "python",
   "nbconvert_exporter": "python",
   "pygments_lexer": "ipython3",
   "version": "3.9.2"
  }
 },
 "nbformat": 4,
 "nbformat_minor": 5
}
