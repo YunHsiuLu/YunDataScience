{
 "cells": [
  {
   "cell_type": "code",
   "execution_count": 1,
   "id": "opposed-intranet",
   "metadata": {},
   "outputs": [
    {
     "name": "stdout",
     "output_type": "stream",
     "text": [
      "For Q1\n",
      "Boys; Because the number of boys with long hair is more than girls\n"
     ]
    }
   ],
   "source": [
    "print(\"For Q1\")\n",
    "print(\"Boys; Because the number of boys with long hair is more than girls\")"
   ]
  },
  {
   "cell_type": "code",
   "execution_count": 3,
   "id": "arabic-meditation",
   "metadata": {},
   "outputs": [
    {
     "name": "stdout",
     "output_type": "stream",
     "text": [
      "For Q2\n",
      "It is girl when we saw long hair: 35.71%\n"
     ]
    }
   ],
   "source": [
    "print(\"For Q2\")\n",
    "# P(女生|長髮) 已知長髮，是女生機率？\n",
    "# P(女生|長髮)=P(女生and長髮) / P(長髮)\n",
    "p_girlandlh = 5 / 100\n",
    "p_lh = 14 / 100\n",
    "p_girl_lh = p_girlandlh / p_lh\n",
    "print(\"It is girl when we saw long hair: %.2f\" % (p_girl_lh * 100) + \"%\")"
   ]
  },
  {
   "cell_type": "code",
   "execution_count": 6,
   "id": "entire-breath",
   "metadata": {},
   "outputs": [
    {
     "name": "stdout",
     "output_type": "stream",
     "text": [
      "For Q3\n",
      "By Baye's theorem, we can get the more precise answer; but the answer is still boys\n"
     ]
    }
   ],
   "source": [
    "print(\"For Q3\")\n",
    "print(\"By Baye's theorem, we can get the more precise answer; but the answer is still boys\")"
   ]
  },
  {
   "cell_type": "code",
   "execution_count": null,
   "id": "palestinian-location",
   "metadata": {},
   "outputs": [],
   "source": []
  }
 ],
 "metadata": {
  "kernelspec": {
   "display_name": "Python 3",
   "language": "python",
   "name": "python3"
  },
  "language_info": {
   "codemirror_mode": {
    "name": "ipython",
    "version": 3
   },
   "file_extension": ".py",
   "mimetype": "text/x-python",
   "name": "python",
   "nbconvert_exporter": "python",
   "pygments_lexer": "ipython3",
   "version": "3.9.2"
  }
 },
 "nbformat": 4,
 "nbformat_minor": 5
}
