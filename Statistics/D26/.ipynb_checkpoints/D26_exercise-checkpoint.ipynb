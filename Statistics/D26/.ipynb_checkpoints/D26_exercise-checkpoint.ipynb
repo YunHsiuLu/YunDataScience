{
 "cells": [
  {
   "cell_type": "code",
   "execution_count": 1,
   "id": "elect-playing",
   "metadata": {},
   "outputs": [],
   "source": [
    "# library\n",
    "import matplotlib.pyplot as plt\n",
    "import numpy as np\n",
    "import pandas as pd\n",
    "from scipy import stats\n",
    "import math\n",
    "import statistics"
   ]
  },
  {
   "cell_type": "code",
   "execution_count": 3,
   "id": "severe-concentration",
   "metadata": {},
   "outputs": [],
   "source": [
    "boys=[164, 176, 169, 169, 165, 175, 159, 151, 144, 160, 183, 165, 156, 170,\n",
    "      164, 173, 165, 163, 177, 171]\n",
    "girls=[169, 183, 170, 168, 182, 170, 173, 185, 151, 156, 162, 169, 162, 181,\n",
    "       159, 154, 167, 175, 170, 160]"
   ]
  },
  {
   "cell_type": "code",
   "execution_count": 6,
   "id": "harmful-suite",
   "metadata": {},
   "outputs": [
    {
     "name": "stdout",
     "output_type": "stream",
     "text": [
      "boys mean: 165.95\n",
      "girls mean: 168.30\n"
     ]
    }
   ],
   "source": [
    "boys_mean = np.mean(boys)\n",
    "girls_mean = np.mean(girls)\n",
    "print(\"boys mean: %.2f\" % (boys_mean))\n",
    "print(\"girls mean: %.2f\" % (girls_mean))"
   ]
  },
  {
   "cell_type": "code",
   "execution_count": null,
   "id": "dimensional-affiliate",
   "metadata": {},
   "outputs": [],
   "source": []
  }
 ],
 "metadata": {
  "kernelspec": {
   "display_name": "Python 3",
   "language": "python",
   "name": "python3"
  },
  "language_info": {
   "codemirror_mode": {
    "name": "ipython",
    "version": 3
   },
   "file_extension": ".py",
   "mimetype": "text/x-python",
   "name": "python",
   "nbconvert_exporter": "python",
   "pygments_lexer": "ipython3",
   "version": "3.9.1"
  }
 },
 "nbformat": 4,
 "nbformat_minor": 5
}
