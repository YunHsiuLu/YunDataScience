{
 "cells": [
  {
   "cell_type": "code",
   "execution_count": 2,
   "id": "optional-pulse",
   "metadata": {},
   "outputs": [
    {
     "name": "stdout",
     "output_type": "stream",
     "text": [
      "H_0 can be \"kill no more than 10 kilograms in a month\"\n",
      "H_1 can be \"kill more than 10 kilograms in a month\"\n"
     ]
    }
   ],
   "source": [
    "#Q1: 吃減肥藥能在一個月內瘦超過十公斤，研究人員想推翻第四台廣告業者的說法，請試著寫出 $H_0$ 與 $H_1$\n",
    "print(\"H_0 can be \\\"kill no more than 10 kilograms in a month\\\"\")\n",
    "print(\"H_1 can be \\\"kill more than 10 kilograms in a month\\\"\")"
   ]
  },
  {
   "cell_type": "code",
   "execution_count": 4,
   "id": "minute-monte",
   "metadata": {},
   "outputs": [
    {
     "name": "stdout",
     "output_type": "stream",
     "text": [
      "H_0 can be \"The brand has more than 12% market share\"\n",
      "H_0 can be \"The brand has no more than 12% market share\"\n"
     ]
    }
   ],
   "source": [
    "#Q2: 一位速食店店長認為其品牌在市場之佔有率至多為12%，\n",
    "#    於是該店長進行一個市場調查，一共訪問了3000為消費者，\n",
    "#    其中有311位表示喜歡該品牌，請試著寫出 $H_0$ 與 $H_1$ 。\n",
    "print(\"H_0 can be \\\"The brand has more than 12% market share\\\"\")\n",
    "print(\"H_0 can be \\\"The brand has no more than 12% market share\\\"\")"
   ]
  },
  {
   "cell_type": "code",
   "execution_count": null,
   "id": "rubber-intersection",
   "metadata": {},
   "outputs": [],
   "source": []
  }
 ],
 "metadata": {
  "kernelspec": {
   "display_name": "Python 3",
   "language": "python",
   "name": "python3"
  },
  "language_info": {
   "codemirror_mode": {
    "name": "ipython",
    "version": 3
   },
   "file_extension": ".py",
   "mimetype": "text/x-python",
   "name": "python",
   "nbconvert_exporter": "python",
   "pygments_lexer": "ipython3",
   "version": "3.9.2"
  }
 },
 "nbformat": 4,
 "nbformat_minor": 5
}
