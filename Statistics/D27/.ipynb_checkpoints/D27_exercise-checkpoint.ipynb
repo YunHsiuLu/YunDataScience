{
 "cells": [
  {
   "cell_type": "code",
   "execution_count": 22,
   "id": "least-tours",
   "metadata": {},
   "outputs": [],
   "source": [
    "def level(n):\n",
    "    temp = 1\n",
    "    for i in range(n):\n",
    "        temp = temp * (i+1)\n",
    "    return temp"
   ]
  },
  {
   "cell_type": "code",
   "execution_count": 32,
   "id": "split-ridge",
   "metadata": {},
   "outputs": [
    {
     "name": "stdout",
     "output_type": "stream",
     "text": [
      "7.96%\n"
     ]
    }
   ],
   "source": [
    "# 銅板只有正或反，這邊假設正為1，反為0\n",
    "# 因為總共只有兩種可能，所以這邊是使用Binomial Distribution\n",
    "# 欲計算正面50次的機率，即為Pr(count正 = 50) = Event(count正 = 50)/Event(All)\n",
    "Event_All = 2**100 # 丟100次的總次數\n",
    "Event_Head50 = int(level(100)/(level(50)*level(50))) # 50反插入50正，51*52*53*...*100\n",
    "Pr_Head50 = Event_Head50 / Event_All\n",
    "print(\"%.2f\" % (Pr_Head50*100) + chr(37))"
   ]
  },
  {
   "cell_type": "code",
   "execution_count": null,
   "id": "split-parade",
   "metadata": {},
   "outputs": [],
   "source": []
  }
 ],
 "metadata": {
  "kernelspec": {
   "display_name": "Python 3",
   "language": "python",
   "name": "python3"
  },
  "language_info": {
   "codemirror_mode": {
    "name": "ipython",
    "version": 3
   },
   "file_extension": ".py",
   "mimetype": "text/x-python",
   "name": "python",
   "nbconvert_exporter": "python",
   "pygments_lexer": "ipython3",
   "version": "3.9.1"
  }
 },
 "nbformat": 4,
 "nbformat_minor": 5
}
