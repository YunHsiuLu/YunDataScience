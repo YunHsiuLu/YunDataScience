{
 "cells": [
  {
   "cell_type": "markdown",
   "id": "referenced-herald",
   "metadata": {},
   "source": [
    "作業目標<br>\n",
    "在一個陣列中放入多屬性陣列，進一步對陣列做運算<br>\n",
    "作業重點<br>\n",
    "在建立結構化陣列前需要先設定屬性，在做運算時須注意資料屬性\n",
    "\n",
    "題目:<br>\n",
    "name_list = ['小明','小華','小菁','小美','小張','John','Mark','Tom']<br>\n",
    "sex_list = ['boy','boy','girl','girl','boy','boy','boy','boy']<br>\n",
    "weight_list = [67.5,75.3,50.1,45.5,80.8,90.4,78.4,70.7]<br>\n",
    "rank_list = [8,1,5,4,7,6,2,3]<br>\n",
    "myopia_list = [True,True,False,False,True,True,False,False]\n",
    "\n",
    "將上列list依照['name', 'sex', 'weight', 'rank', 'myopia']順序擺入array，並且資料型態順序擺入[Unicode,Unicode,float,int,boolean]<br>\n",
    "呈上題，將array中體重(weight)數據集取出算出全部平均體重<br>\n",
    "呈上題，進一步算出男生(sex欄位是boy)平均體重、女生(sex欄位是girl)平均體重<br>"
   ]
  },
  {
   "cell_type": "code",
   "execution_count": 9,
   "id": "incomplete-eating",
   "metadata": {},
   "outputs": [],
   "source": [
    "import numpy as np\n",
    "name_list = ['小明','小華','小菁','小美','小張','John','Mark','Tom']\n",
    "sex_list = ['boy','boy','girl','girl','boy','boy','boy','boy']\n",
    "weight_list = [67.5,75.3,50.1,45.5,80.8,90.4,78.4,70.7]\n",
    "rank_list = [8,1,5,4,7,6,2,3]\n",
    "myopia_list = [True,True,False,False,True,True,False,False]\n",
    "dt = np.dtype({'names':('name', 'sex', 'weight', 'rank', 'myopia'),\n",
    "               'formats':('U5', 'U5', float, int, bool)})"
   ]
  },
  {
   "cell_type": "code",
   "execution_count": 11,
   "id": "played-spare",
   "metadata": {},
   "outputs": [
    {
     "name": "stdout",
     "output_type": "stream",
     "text": [
      "[('小明', 'boy', 67.5, 8,  True) ('小華', 'boy', 75.3, 1,  True)\n",
      " ('小菁', 'girl', 50.1, 5, False) ('小美', 'girl', 45.5, 4, False)\n",
      " ('小張', 'boy', 80.8, 7,  True) ('John', 'boy', 90.4, 6,  True)\n",
      " ('Mark', 'boy', 78.4, 2, False) ('Tom', 'boy', 70.7, 3, False)]\n"
     ]
    }
   ],
   "source": [
    "info_list = np.zeros(len(name_list), dtype=dt)\n",
    "info_list['name'] = name_list\n",
    "info_list['sex'] = sex_list\n",
    "info_list['weight'] = weight_list\n",
    "info_list['rank'] = rank_list\n",
    "info_list['myopia'] = myopia_list\n",
    "print(info_list)"
   ]
  },
  {
   "cell_type": "code",
   "execution_count": 12,
   "id": "broken-affairs",
   "metadata": {},
   "outputs": [
    {
     "name": "stdout",
     "output_type": "stream",
     "text": [
      "69.8375\n"
     ]
    }
   ],
   "source": [
    "print(np.mean(weight_list))"
   ]
  },
  {
   "cell_type": "code",
   "execution_count": 16,
   "id": "grateful-multiple",
   "metadata": {},
   "outputs": [
    {
     "name": "stdout",
     "output_type": "stream",
     "text": [
      "Boys mean weight: 77.18\n",
      "Girls mean weight: 47.80\n"
     ]
    }
   ],
   "source": [
    "print(\"Boys mean weight: %.2f\" % (np.mean(info_list[info_list['sex']=='boy']['weight'])))\n",
    "print(\"Girls mean weight: %.2f\" % (np.mean(info_list[info_list['sex']=='girl']['weight'])))"
   ]
  },
  {
   "cell_type": "code",
   "execution_count": null,
   "id": "aware-proceeding",
   "metadata": {},
   "outputs": [],
   "source": []
  }
 ],
 "metadata": {
  "kernelspec": {
   "display_name": "Python 3",
   "language": "python",
   "name": "python3"
  },
  "language_info": {
   "codemirror_mode": {
    "name": "ipython",
    "version": 3
   },
   "file_extension": ".py",
   "mimetype": "text/x-python",
   "name": "python",
   "nbconvert_exporter": "python",
   "pygments_lexer": "ipython3",
   "version": "3.9.1"
  }
 },
 "nbformat": 4,
 "nbformat_minor": 5
}
