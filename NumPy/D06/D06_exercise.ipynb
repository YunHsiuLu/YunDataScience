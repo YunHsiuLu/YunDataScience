{
 "cells": [
  {
   "cell_type": "markdown",
   "id": "broadband-victorian",
   "metadata": {},
   "source": [
    "作業目標<br>\n",
    "讀取存取陣列資料<br>\n",
    "作業重點<br>\n",
    "多陣列存一起需要存成npz，讀取須注意npz中有多個陣列<br>\n",
    "\n",
    "題目:<br>\n",
    "將下兩列array存成npz檔<br>\n",
    "array1 = np.array(range(30))<br>\n",
    "array2 = np.array([2,3,5])<br>\n",
    "讀取剛剛的npz檔，加入下列array一起存成新的npz檔<br>"
   ]
  },
  {
   "cell_type": "code",
   "execution_count": 35,
   "id": "brilliant-guess",
   "metadata": {},
   "outputs": [],
   "source": [
    "import numpy as np"
   ]
  },
  {
   "cell_type": "code",
   "execution_count": 36,
   "id": "comprehensive-product",
   "metadata": {},
   "outputs": [],
   "source": [
    "#1. 將下兩列array存成npz檔\n",
    "array1 = np.array(range(30))\n",
    "array2 = np.array([2,3,5])"
   ]
  },
  {
   "cell_type": "code",
   "execution_count": 41,
   "id": "interesting-beach",
   "metadata": {},
   "outputs": [],
   "source": [
    "with open('exercise1.npz', 'wb') as f:\n",
    "    np.savez(f, x=array1, y=array2)\n"
   ]
  },
  {
   "cell_type": "code",
   "execution_count": 42,
   "id": "vertical-services",
   "metadata": {},
   "outputs": [
    {
     "data": {
      "text/plain": [
       "numpy.lib.npyio.NpzFile"
      ]
     },
     "execution_count": 42,
     "metadata": {},
     "output_type": "execute_result"
    }
   ],
   "source": [
    "npzfile = np.load('exercise1.npz')\n",
    "type(npzfile)"
   ]
  },
  {
   "cell_type": "code",
   "execution_count": 43,
   "id": "julian-steel",
   "metadata": {},
   "outputs": [
    {
     "data": {
      "text/plain": [
       "['x', 'y']"
      ]
     },
     "execution_count": 43,
     "metadata": {},
     "output_type": "execute_result"
    }
   ],
   "source": [
    "npzfile.files"
   ]
  },
  {
   "cell_type": "code",
   "execution_count": 44,
   "id": "computational-flower",
   "metadata": {},
   "outputs": [
    {
     "name": "stdout",
     "output_type": "stream",
     "text": [
      "[ 0  1  2  3  4  5  6  7  8  9 10 11 12 13 14 15 16 17 18 19 20 21 22 23\n",
      " 24 25 26 27 28 29]\n",
      "[2 3 5]\n"
     ]
    }
   ],
   "source": [
    "print(npzfile['x'])\n",
    "print(npzfile['y'])"
   ]
  },
  {
   "cell_type": "code",
   "execution_count": 45,
   "id": "opened-convention",
   "metadata": {},
   "outputs": [],
   "source": [
    "array3 = np.array([[4,5,6],[1,2,3]])\n",
    "with open('exercise1.npz', 'wb') as f:\n",
    "    np.savez(f, arr1=npzfile['x'], arr2=npzfile['y'], arr3=array3)\n"
   ]
  },
  {
   "cell_type": "code",
   "execution_count": 47,
   "id": "moving-powder",
   "metadata": {},
   "outputs": [],
   "source": [
    "npzfile = np.load('exercise1.npz')"
   ]
  },
  {
   "cell_type": "code",
   "execution_count": 48,
   "id": "accessible-worth",
   "metadata": {},
   "outputs": [
    {
     "name": "stdout",
     "output_type": "stream",
     "text": [
      "['arr1', 'arr2', 'arr3']\n",
      "[ 0  1  2  3  4  5  6  7  8  9 10 11 12 13 14 15 16 17 18 19 20 21 22 23\n",
      " 24 25 26 27 28 29]\n",
      "[2 3 5]\n",
      "[[4 5 6]\n",
      " [1 2 3]]\n"
     ]
    }
   ],
   "source": [
    "print(npzfile.files)\n",
    "print(npzfile['arr1'])\n",
    "print(npzfile['arr2'])\n",
    "print(npzfile['arr3'])"
   ]
  },
  {
   "cell_type": "code",
   "execution_count": null,
   "id": "threaded-limit",
   "metadata": {},
   "outputs": [],
   "source": []
  }
 ],
 "metadata": {
  "kernelspec": {
   "display_name": "Python 3",
   "language": "python",
   "name": "python3"
  },
  "language_info": {
   "codemirror_mode": {
    "name": "ipython",
    "version": 3
   },
   "file_extension": ".py",
   "mimetype": "text/x-python",
   "name": "python",
   "nbconvert_exporter": "python",
   "pygments_lexer": "ipython3",
   "version": "3.9.1"
  }
 },
 "nbformat": 4,
 "nbformat_minor": 5
}
