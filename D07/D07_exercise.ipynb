{
 "cells": [
  {
   "cell_type": "markdown",
   "id": "yellow-trade",
   "metadata": {},
   "source": [
    "作業目標<br>\n",
    "活用矩陣運算，實做線性代數<br>\n",
    "作業重點<br>\n",
    "線性代數公式應用<br>\n",
    "矩陣相乘維度需要對好，例如:2X3矩陣乘上3X5矩陣得到2X5矩陣<br>\n",
    "\n",
    "題目:<br>\n",
    "array1 = np.array([[10, 8], [3, 5]]) \n",
    "\n",
    "運用上列array計算反矩陣，乘上原矩陣，並觀察是否為單位矩陣?<br>\n",
    "運用上列array計算特徵值、特徵向量?<br>\n",
    "運用上列array計算SVD?<br>"
   ]
  },
  {
   "cell_type": "code",
   "execution_count": 7,
   "id": "raising-georgia",
   "metadata": {},
   "outputs": [],
   "source": [
    "import numpy as np\n",
    "array1 = np.array([[10, 8], [3, 5]])\n",
    "def isidentity(M):\n",
    "    n = len(M)\n",
    "    if (M == np.identity(n)).all():\n",
    "        return True"
   ]
  },
  {
   "cell_type": "code",
   "execution_count": 9,
   "id": "nasty-celebrity",
   "metadata": {},
   "outputs": [
    {
     "data": {
      "text/plain": [
       "True"
      ]
     },
     "execution_count": 9,
     "metadata": {},
     "output_type": "execute_result"
    }
   ],
   "source": [
    "#1. 運用上列array計算反矩陣，乘上原矩陣，並觀察是否為單位矩陣?\n",
    "array1_inv = np.linalg.inv(array1)\n",
    "isidentity(np.matmul(array1, array1_inv))"
   ]
  },
  {
   "cell_type": "code",
   "execution_count": 10,
   "id": "prescribed-progressive",
   "metadata": {},
   "outputs": [
    {
     "name": "stdout",
     "output_type": "stream",
     "text": [
      "eigval:\n",
      " [13.  2.]\n",
      "eigvec:\n",
      " [[ 0.93632918 -0.70710678]\n",
      " [ 0.35112344  0.70710678]]\n"
     ]
    }
   ],
   "source": [
    "#2. 運用上列array計算特徵值、特徵向量?\n",
    "eigval, eigvec = np.linalg.eig(array1)\n",
    "print(\"eigval:\\n\", eigval)\n",
    "print(\"eigvec:\\n\", eigvec)"
   ]
  },
  {
   "cell_type": "code",
   "execution_count": 13,
   "id": "antique-premiere",
   "metadata": {},
   "outputs": [
    {
     "name": "stdout",
     "output_type": "stream",
     "text": [
      "U = \n",
      " [[-0.91663818 -0.39971796]\n",
      " [-0.39971796  0.91663818]]\n",
      "S = \n",
      " [13.94721714  1.86417116]\n",
      "V* = \n",
      " [[-0.74319741 -0.6690722 ]\n",
      " [-0.6690722   0.74319741]]\n"
     ]
    }
   ],
   "source": [
    "#3. 運用上列array計算SVD?\n",
    "u, s, vh = np.linalg.svd(array1)\n",
    "print(\"U = \\n\", u)\n",
    "print(\"S = \\n\", s)\n",
    "print(\"V* = \\n\", vh)"
   ]
  },
  {
   "cell_type": "code",
   "execution_count": null,
   "id": "packed-broad",
   "metadata": {},
   "outputs": [],
   "source": []
  }
 ],
 "metadata": {
  "kernelspec": {
   "display_name": "Python 3",
   "language": "python",
   "name": "python3"
  },
  "language_info": {
   "codemirror_mode": {
    "name": "ipython",
    "version": 3
   },
   "file_extension": ".py",
   "mimetype": "text/x-python",
   "name": "python",
   "nbconvert_exporter": "python",
   "pygments_lexer": "ipython3",
   "version": "3.9.1"
  }
 },
 "nbformat": 4,
 "nbformat_minor": 5
}
